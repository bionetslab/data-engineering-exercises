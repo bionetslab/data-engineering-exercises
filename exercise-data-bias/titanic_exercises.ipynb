{
 "cells": [
  {
   "cell_type": "code",
   "execution_count": 7,
   "id": "5dc3b38e-d587-417d-89a2-0e65f5227e46",
   "metadata": {
    "scrolled": true
   },
   "outputs": [
    {
     "data": {
      "text/html": [
       "<div>\n",
       "<style scoped>\n",
       "    .dataframe tbody tr th:only-of-type {\n",
       "        vertical-align: middle;\n",
       "    }\n",
       "\n",
       "    .dataframe tbody tr th {\n",
       "        vertical-align: top;\n",
       "    }\n",
       "\n",
       "    .dataframe thead th {\n",
       "        text-align: right;\n",
       "    }\n",
       "</style>\n",
       "<table border=\"1\" class=\"dataframe\">\n",
       "  <thead>\n",
       "    <tr style=\"text-align: right;\">\n",
       "      <th></th>\n",
       "      <th>survived</th>\n",
       "      <th>pclass</th>\n",
       "      <th>sex</th>\n",
       "      <th>age</th>\n",
       "      <th>sibsp</th>\n",
       "      <th>parch</th>\n",
       "      <th>fare</th>\n",
       "      <th>embarked</th>\n",
       "      <th>class</th>\n",
       "      <th>who</th>\n",
       "      <th>adult_male</th>\n",
       "      <th>deck</th>\n",
       "      <th>embark_town</th>\n",
       "      <th>alive</th>\n",
       "      <th>alone</th>\n",
       "    </tr>\n",
       "  </thead>\n",
       "  <tbody>\n",
       "    <tr>\n",
       "      <th>0</th>\n",
       "      <td>0</td>\n",
       "      <td>3</td>\n",
       "      <td>male</td>\n",
       "      <td>22.0</td>\n",
       "      <td>1</td>\n",
       "      <td>0</td>\n",
       "      <td>7.2500</td>\n",
       "      <td>S</td>\n",
       "      <td>Third</td>\n",
       "      <td>man</td>\n",
       "      <td>True</td>\n",
       "      <td>NaN</td>\n",
       "      <td>Southampton</td>\n",
       "      <td>no</td>\n",
       "      <td>False</td>\n",
       "    </tr>\n",
       "    <tr>\n",
       "      <th>1</th>\n",
       "      <td>1</td>\n",
       "      <td>1</td>\n",
       "      <td>female</td>\n",
       "      <td>38.0</td>\n",
       "      <td>1</td>\n",
       "      <td>0</td>\n",
       "      <td>71.2833</td>\n",
       "      <td>C</td>\n",
       "      <td>First</td>\n",
       "      <td>woman</td>\n",
       "      <td>False</td>\n",
       "      <td>C</td>\n",
       "      <td>Cherbourg</td>\n",
       "      <td>yes</td>\n",
       "      <td>False</td>\n",
       "    </tr>\n",
       "    <tr>\n",
       "      <th>2</th>\n",
       "      <td>1</td>\n",
       "      <td>3</td>\n",
       "      <td>female</td>\n",
       "      <td>26.0</td>\n",
       "      <td>0</td>\n",
       "      <td>0</td>\n",
       "      <td>7.9250</td>\n",
       "      <td>S</td>\n",
       "      <td>Third</td>\n",
       "      <td>woman</td>\n",
       "      <td>False</td>\n",
       "      <td>NaN</td>\n",
       "      <td>Southampton</td>\n",
       "      <td>yes</td>\n",
       "      <td>True</td>\n",
       "    </tr>\n",
       "    <tr>\n",
       "      <th>3</th>\n",
       "      <td>1</td>\n",
       "      <td>1</td>\n",
       "      <td>female</td>\n",
       "      <td>35.0</td>\n",
       "      <td>1</td>\n",
       "      <td>0</td>\n",
       "      <td>53.1000</td>\n",
       "      <td>S</td>\n",
       "      <td>First</td>\n",
       "      <td>woman</td>\n",
       "      <td>False</td>\n",
       "      <td>C</td>\n",
       "      <td>Southampton</td>\n",
       "      <td>yes</td>\n",
       "      <td>False</td>\n",
       "    </tr>\n",
       "    <tr>\n",
       "      <th>4</th>\n",
       "      <td>0</td>\n",
       "      <td>3</td>\n",
       "      <td>male</td>\n",
       "      <td>35.0</td>\n",
       "      <td>0</td>\n",
       "      <td>0</td>\n",
       "      <td>8.0500</td>\n",
       "      <td>S</td>\n",
       "      <td>Third</td>\n",
       "      <td>man</td>\n",
       "      <td>True</td>\n",
       "      <td>NaN</td>\n",
       "      <td>Southampton</td>\n",
       "      <td>no</td>\n",
       "      <td>True</td>\n",
       "    </tr>\n",
       "  </tbody>\n",
       "</table>\n",
       "</div>"
      ],
      "text/plain": [
       "   survived  pclass     sex   age  sibsp  parch     fare embarked  class  \\\n",
       "0         0       3    male  22.0      1      0   7.2500        S  Third   \n",
       "1         1       1  female  38.0      1      0  71.2833        C  First   \n",
       "2         1       3  female  26.0      0      0   7.9250        S  Third   \n",
       "3         1       1  female  35.0      1      0  53.1000        S  First   \n",
       "4         0       3    male  35.0      0      0   8.0500        S  Third   \n",
       "\n",
       "     who  adult_male deck  embark_town alive  alone  \n",
       "0    man        True  NaN  Southampton    no  False  \n",
       "1  woman       False    C    Cherbourg   yes  False  \n",
       "2  woman       False  NaN  Southampton   yes   True  \n",
       "3  woman       False    C  Southampton   yes  False  \n",
       "4    man        True  NaN  Southampton    no   True  "
      ]
     },
     "execution_count": 7,
     "metadata": {},
     "output_type": "execute_result"
    }
   ],
   "source": [
    "import pandas as pd\n",
    "import seaborn as sns\n",
    "import matplotlib.pyplot as plt\n",
    "\n",
    "# Load Titanic dataset from seaborn\n",
    "df = sns.load_dataset('titanic')\n",
    "\n",
    "# Preview data\n",
    "df.head()"
   ]
  },
  {
   "cell_type": "markdown",
   "id": "efd21571-2a5f-4b77-a70f-840a419a0793",
   "metadata": {},
   "source": [
    "### We gonna work only with the following columns:\n",
    "['survived', 'sex', 'age', 'class', 'embark_town']"
   ]
  },
  {
   "cell_type": "code",
   "execution_count": 8,
   "id": "383a892e-9e55-4a8c-964d-e6cb850cfacc",
   "metadata": {},
   "outputs": [
    {
     "data": {
      "text/html": [
       "<div>\n",
       "<style scoped>\n",
       "    .dataframe tbody tr th:only-of-type {\n",
       "        vertical-align: middle;\n",
       "    }\n",
       "\n",
       "    .dataframe tbody tr th {\n",
       "        vertical-align: top;\n",
       "    }\n",
       "\n",
       "    .dataframe thead th {\n",
       "        text-align: right;\n",
       "    }\n",
       "</style>\n",
       "<table border=\"1\" class=\"dataframe\">\n",
       "  <thead>\n",
       "    <tr style=\"text-align: right;\">\n",
       "      <th></th>\n",
       "      <th>survived</th>\n",
       "      <th>sex</th>\n",
       "      <th>age</th>\n",
       "      <th>class</th>\n",
       "      <th>embark_town</th>\n",
       "    </tr>\n",
       "  </thead>\n",
       "  <tbody>\n",
       "    <tr>\n",
       "      <th>0</th>\n",
       "      <td>0</td>\n",
       "      <td>male</td>\n",
       "      <td>22.0</td>\n",
       "      <td>Third</td>\n",
       "      <td>Southampton</td>\n",
       "    </tr>\n",
       "    <tr>\n",
       "      <th>1</th>\n",
       "      <td>1</td>\n",
       "      <td>female</td>\n",
       "      <td>38.0</td>\n",
       "      <td>First</td>\n",
       "      <td>Cherbourg</td>\n",
       "    </tr>\n",
       "    <tr>\n",
       "      <th>2</th>\n",
       "      <td>1</td>\n",
       "      <td>female</td>\n",
       "      <td>26.0</td>\n",
       "      <td>Third</td>\n",
       "      <td>Southampton</td>\n",
       "    </tr>\n",
       "    <tr>\n",
       "      <th>3</th>\n",
       "      <td>1</td>\n",
       "      <td>female</td>\n",
       "      <td>35.0</td>\n",
       "      <td>First</td>\n",
       "      <td>Southampton</td>\n",
       "    </tr>\n",
       "    <tr>\n",
       "      <th>4</th>\n",
       "      <td>0</td>\n",
       "      <td>male</td>\n",
       "      <td>35.0</td>\n",
       "      <td>Third</td>\n",
       "      <td>Southampton</td>\n",
       "    </tr>\n",
       "  </tbody>\n",
       "</table>\n",
       "</div>"
      ],
      "text/plain": [
       "   survived     sex   age  class  embark_town\n",
       "0         0    male  22.0  Third  Southampton\n",
       "1         1  female  38.0  First    Cherbourg\n",
       "2         1  female  26.0  Third  Southampton\n",
       "3         1  female  35.0  First  Southampton\n",
       "4         0    male  35.0  Third  Southampton"
      ]
     },
     "execution_count": 8,
     "metadata": {},
     "output_type": "execute_result"
    }
   ],
   "source": [
    "# Drop rows with missing values in key columns for simplicity\n",
    "df = df[['survived', 'sex', 'age', 'class', 'embark_town']].dropna()\n",
    "df.head()"
   ]
  },
  {
   "cell_type": "code",
   "execution_count": 9,
   "id": "cec7de86-9f11-4940-885e-c39032620b71",
   "metadata": {},
   "outputs": [
    {
     "data": {
      "image/png": "[encoded data removed]",
      "text/plain": [
       "<Figure size 640x480 with 1 Axes>"
      ]
     },
     "metadata": {},
     "output_type": "display_data"
    }
   ],
   "source": [
    "# Exploring the data: number of men and women\n",
    "sns.countplot(x='sex', data=df) # , errorbar = None)\n",
    "plt.title('Number of men and women')\n",
    "# plt.ylabel('Survival Rate')\n",
    "plt.show()"
   ]
  },
  {
   "cell_type": "code",
   "execution_count": 30,
   "id": "c7e06ca8-abc3-483a-b795-158fa5cf6cea",
   "metadata": {
    "scrolled": true
   },
   "outputs": [
    {
     "data": {
      "image/png": "[encoded data removed]",
      "text/plain": [
       "<Figure size 640x480 with 1 Axes>"
      ]
     },
     "metadata": {},
     "output_type": "display_data"
    }
   ],
   "source": [
    "# Exploring: age by class and survival\n",
    "sns.boxplot(x='class',y='age', hue = \"survived\", data=df)\n",
    "# sns.boxplot(x='survived',y='age', hue = \"class\", data=df)\n",
    "plt.title('Age by class and gender')\n",
    "# plt.ylabel('Survival Rate')\n",
    "plt.show()"
   ]
  },
  {
   "cell_type": "markdown",
   "id": "6a9f323f-68f7-4ad6-b274-0064cddd0fd6",
   "metadata": {},
   "source": [
    "## a) How does the survival rate differ between men and women? Which policy could have made a bias? What kind of bias it is?\n",
    "## One can use sns.barplot for all the tasks below"
   ]
  },
  {
   "cell_type": "code",
   "execution_count": 1,
   "id": "41893b6e-ab4b-4e12-8d13-0663ca85cba3",
   "metadata": {},
   "outputs": [],
   "source": [
    "# Survival rate by gender\n",
    "# Use sns.barplot\n",
    "# Your code\n"
   ]
  },
  {
   "cell_type": "markdown",
   "id": "d32ad1a0-4927-4631-a7da-78c9328ab01c",
   "metadata": {},
   "source": [
    "## b) How does the survival rate depend on the passengers' class?"
   ]
  },
  {
   "cell_type": "code",
   "execution_count": 2,
   "id": "3c2dd735-efbb-4463-99ae-d1d540c86412",
   "metadata": {},
   "outputs": [],
   "source": [
    "# your code\n",
    "# hint: use \"order\" argument for sns.barplot as order=['First', 'Second', 'Third']\n"
   ]
  },
  {
   "cell_type": "markdown",
   "id": "41d969a3-1dc1-4f17-8a33-4c738f6f5c3e",
   "metadata": {},
   "source": [
    "## c) Build a plot showing passenger survival rate by class within each embark\\_town. It is noticeable that for the passengers embarked at Queenstown the survival rate does not differ between the second and the third class. What is the reason for that? Which type of bias explains this discrepancy? (hint: build another similar plot but instead survival rate use the passenger count)"
   ]
  },
  {
   "cell_type": "code",
   "execution_count": 3,
   "id": "11087707-14c2-484f-8dc2-e5bfbb7fbd74",
   "metadata": {},
   "outputs": [],
   "source": [
    "# your code (plot survival rate by class within each embark_town)\n"
   ]
  },
  {
   "cell_type": "code",
   "execution_count": 4,
   "id": "edd48645-1a7c-40d5-94be-9f14d9cc7c98",
   "metadata": {},
   "outputs": [],
   "source": [
    "# your code\n",
    "# passenger count by class within each embark_town\n"
   ]
  },
  {
   "cell_type": "markdown",
   "id": "8da62138-b7f2-486e-9e40-7d6e97f084c9",
   "metadata": {},
   "source": [
    "## d) Build the plot Survival Rate by embark_town. The survival rate for passengers from Cherbourg is substantially higher. How to explain it?"
   ]
  },
  {
   "cell_type": "code",
   "execution_count": 5,
   "id": "7a5332f0-f4b9-4acb-878c-56666a4624c4",
   "metadata": {},
   "outputs": [],
   "source": [
    "# your code\n"
   ]
  },
  {
   "cell_type": "markdown",
   "id": "4f9a538f-3586-4ff5-a248-659c09fad3b3",
   "metadata": {},
   "source": [
    "## e) Build a plot showing survival rate depending on the age group."
   ]
  },
  {
   "cell_type": "code",
   "execution_count": 12,
   "id": "a579a020-2ae9-4735-9638-4dad75753043",
   "metadata": {},
   "outputs": [],
   "source": [
    "# Create age groups\n",
    "df['age_group'] = pd.cut(df['age'], bins=[0, 12, 18, 40, 60, 100], \n",
    "                         labels=['Child', 'Teen', 'Adult', 'Middle Age', 'Senior'])\n",
    "# your code\n"
   ]
  },
  {
   "cell_type": "markdown",
   "id": "3a15496a-80f1-4c7e-a32f-a9103912db47",
   "metadata": {},
   "source": [
    "## f) Build a plot showing Gender and Class Interaction on Survival (Survival depending on class and gender). What do you observe?\n",
    "## How the observations can be explained?"
   ]
  },
  {
   "cell_type": "code",
   "execution_count": 13,
   "id": "3e181c3f-1637-45cf-a074-6d2634a2873c",
   "metadata": {},
   "outputs": [],
   "source": [
    "#your code\n"
   ]
  }
 ],
 "metadata": {
  "kernelspec": {
   "display_name": "Python 3 (ipykernel)",
   "language": "python",
   "name": "python3"
  },
  "language_info": {
   "codemirror_mode": {
    "name": "ipython",
    "version": 3
   },
   "file_extension": ".py",
   "mimetype": "text/x-python",
   "name": "python",
   "nbconvert_exporter": "python",
   "pygments_lexer": "ipython3",
   "version": "3.12.10"
  }
 },
 "nbformat": 4,
 "nbformat_minor": 5
}
