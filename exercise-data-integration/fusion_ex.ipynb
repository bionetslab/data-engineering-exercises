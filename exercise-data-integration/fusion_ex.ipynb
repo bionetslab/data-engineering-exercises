{
 "cells": [
  {
   "cell_type": "code",
   "execution_count": null,
   "id": "09ade934-e05a-47cf-9fa9-f24c456a100e",
   "metadata": {},
   "outputs": [],
   "source": [
    "import pandas as pd\n",
    "from sklearn.model_selection import StratifiedShuffleSplit\n",
    "import matplotlib.pyplot as plt\n",
    "import numpy as np\n",
    "from sklearn.ensemble import RandomForestClassifier\n",
    "from sklearn.impute import SimpleImputer\n",
    "from sklearn.metrics import accuracy_score"
   ]
  },
  {
   "cell_type": "code",
   "execution_count": null,
   "id": "73ca2309-32ac-4b22-87fa-806d2af8ee6c",
   "metadata": {},
   "outputs": [],
   "source": [
    "# Read the file, treat the first row as header, ignore leading \"1\" index in second row\n",
    "target_df = pd.read_csv('./data/KIRC_data/KIDNEY_RANDOM_TARGET.txt',\n",
    "    sep=r'\\s+',         # use whitespace as separator\n",
    "    header=0,                      # first row contains column names (sample IDs)\n",
    "    quotechar='\"',                 # handle quoted sample IDs\n",
    ")\n",
    "target_df.head()"
   ]
  },
  {
   "cell_type": "code",
   "execution_count": null,
   "id": "65f5330e-7d28-43e2-8e5d-2b895feaaa77",
   "metadata": {},
   "outputs": [],
   "source": [
    "# Read the file, treat the first row as header, ignore leading \"1\" index in second row\n",
    "methyl_df = pd.read_csv('./data/KIRC_data/KIDNEY_RANDOM_Methy_FEATURES.txt',\n",
    "    sep=r'\\s+',         # use whitespace as separator\n",
    "    header=0,                      # first row contains column names (sample IDs)\n",
    "    quotechar='\"',                 # handle quoted sample IDs\n",
    ")\n",
    "print(methyl_df.shape)\n",
    "print(\"Number of missing values:\", methyl_df.isnull().sum().sum())\n",
    "methyl_df.head()"
   ]
  },
  {
   "cell_type": "code",
   "execution_count": null,
   "id": "ff9c38fe-d61d-44bc-a6a3-c049023f0019",
   "metadata": {},
   "outputs": [],
   "source": [
    "# Read the file, treat the first row as header, ignore leading \"1\" index in second row\n",
    "ge_df = pd.read_csv('./data/KIRC_data/KIDNEY_RANDOM_mRNA_FEATURES.txt',\n",
    "    sep=r'\\s+',         # use whitespace as separator\n",
    "    header=0,                      # first row contains column names (sample IDs)\n",
    "    quotechar='\"',                 # handle quoted sample IDs\n",
    ")\n",
    "print(ge_df.shape)\n",
    "print(\"Number of missing values:\", ge_df.isnull().sum().sum())\n",
    "ge_df.head()"
   ]
  },
  {
   "cell_type": "markdown",
   "id": "4e03ebdc-38df-49f1-927a-7d0e2c7d7359",
   "metadata": {},
   "source": [
    "## Training Random Forest on Methylation data"
   ]
  },
  {
   "cell_type": "code",
   "execution_count": null,
   "id": "c50ad4ea-7230-45a0-8007-53781188ead9",
   "metadata": {},
   "outputs": [],
   "source": [
    "import pandas as pd\n",
    "from sklearn.ensemble import RandomForestClassifier\n",
    "from sklearn.impute import SimpleImputer\n",
    "from sklearn.model_selection import train_test_split\n",
    "from sklearn.metrics import classification_report\n",
    "target_series = target_df.iloc[0]\n",
    "\n",
    "# Reindex X and y to ensure alignment by sample ID\n",
    "# The files has been matched already, but we do it here for educational purposes.\n",
    "target_series = target_df.iloc[0]\n",
    "common_samples = methyl_df.index.intersection(target_series.index)\n",
    "methyl_df_matched = methyl_df.loc[common_samples]\n",
    "y = target_series.loc[common_samples].astype(int)\n",
    "print(y.sum())\n",
    "\n",
    "# ---  Impute missing values ---\n",
    "imputer = SimpleImputer(strategy='mean')\n",
    "X_methyl_imputed = imputer.fit_transform(methyl_df_matched)\n",
    "\n",
    "sss = StratifiedShuffleSplit(n_splits=30, test_size=0.3, random_state=42)\n",
    "accuracies_meth = []\n",
    "\n",
    "for train_index, test_index in sss.split(X_methyl_imputed, y):\n",
    "    X_train, X_test = X_methyl_imputed[train_index], X_methyl_imputed[test_index]\n",
    "    y_train, y_test = y.iloc[train_index], y.iloc[test_index]\n",
    "\n",
    "    clf = RandomForestClassifier(n_estimators=100, random_state=42, n_jobs=-1)\n",
    "    clf.fit(X_train, y_train)\n",
    "    y_pred = clf.predict(X_test)\n",
    "\n",
    "    acc = accuracy_score(y_test, y_pred)\n",
    "    accuracies_meth.append(acc)\n",
    "\n",
    "# --- Plot ---\n",
    "plt.figure(figsize=(8, 5))\n",
    "plt.boxplot(accuracies_meth)\n",
    "plt.title(\"Stratified Random Forest Accuracy (30 Splits)\")\n",
    "plt.ylabel(\"Accuracy\")\n",
    "plt.xticks([1], [\"Random Forest\"])\n",
    "plt.grid(True)\n",
    "plt.show()"
   ]
  },
  {
   "cell_type": "markdown",
   "id": "a4ddf8fb-4b0a-4ae1-b0ad-2b49d29cba1f",
   "metadata": {},
   "source": [
    "## Training Random Forest on Gene Expression data"
   ]
  },
  {
   "cell_type": "code",
   "execution_count": null,
   "id": "64bac8be-12fe-4381-8b63-8029fa820d9a",
   "metadata": {},
   "outputs": [],
   "source": [
    "# Reindex X and y to ensure alignment by sample ID\n",
    "# The files has been matched already, but we do it here for educational purposes.\n",
    "target_series = target_df.iloc[0]\n",
    "common_samples = ge_df.index.intersection(target_series.index)\n",
    "ge_df_matched = ge_df.loc[common_samples]\n",
    "y = target_series.loc[common_samples].astype(int)\n",
    "X_ge = ge_df_matched.to_numpy()\n",
    "# print(y.sum())\n",
    "\n",
    "# --- Impute missing values ---\n",
    "# imputer = SimpleImputer(strategy='mean')\n",
    "# X_ge_imputed = imputer.fit_transform(ge_df_matched)\n",
    "\n",
    " \n",
    "sss = StratifiedShuffleSplit(n_splits=30, test_size=0.3, random_state=42)\n",
    "accuracies_ge = []\n",
    "\n",
    "for train_index, test_index in sss.split(X_ge, y):\n",
    "    X_train, X_test = X_ge[train_index], X_ge[test_index]\n",
    "    y_train, y_test = y.iloc[train_index], y.iloc[test_index]\n",
    "\n",
    "    clf = RandomForestClassifier(n_estimators=100, random_state=42, n_jobs=-1)\n",
    "    clf.fit(X_train, y_train)\n",
    "    y_pred = clf.predict(X_test)\n",
    "\n",
    "    acc = accuracy_score(y_test, y_pred)\n",
    "    accuracies_ge.append(acc)\n",
    "\n",
    "# --- Plot ---\n",
    "plt.figure(figsize=(8, 5))\n",
    "plt.boxplot(accuracies_ge)\n",
    "plt.title(\"Stratified Random Forest Accuracy (30 Splits)\")\n",
    "plt.ylabel(\"Accuracy\")\n",
    "plt.xticks([1], [\"Random Forest\"])\n",
    "plt.grid(True)\n",
    "plt.show()"
   ]
  },
  {
   "cell_type": "markdown",
   "id": "1dd2add6-3b65-43f7-a2fa-aff72dd9b75e",
   "metadata": {},
   "source": [
    "## Merging modalities into one dataset"
   ]
  },
  {
   "cell_type": "code",
   "execution_count": null,
   "id": "c0eae165-d789-4fdb-a1c6-d4feaf127d1c",
   "metadata": {},
   "outputs": [],
   "source": [
    "# Step 1: Align both dataframes on common patient IDs\n",
    "common_ids = ge_df_matched.index.intersection(methyl_df_matched.index)\n",
    "df_expr_aligned = ge_df_matched.loc[common_ids]\n",
    "df_meth_aligned = methyl_df_matched.loc[common_ids]\n",
    "\n",
    "# Step 2: Add suffixes to distinguish between modalities (optional but helpful)\n",
    "df_expr_aligned = df_expr_aligned.add_suffix('_expr')\n",
    "df_meth_aligned = df_meth_aligned.add_suffix('_meth')\n",
    "\n",
    "# Step 2: Impute missing values modality-wise for late fusion\n",
    "imp = SimpleImputer(strategy='mean')\n",
    "X_expr_imputed = imp.fit_transform(df_expr_aligned) # this is not necessary in our case\n",
    "X_meth_imputed = imp.fit_transform(df_meth_aligned)\n",
    "\n",
    "# Step 3: Concatenate the two dataframes along columns\n",
    "X_merged = pd.concat([df_expr_aligned, df_meth_aligned], axis=1)\n",
    "\n",
    "# Result: each row = patient, columns = gene_expr + gene_meth features\n",
    "print(X_merged.shape)\n",
    "print(X_merged.head())\n",
    "\n",
    "# Matching the output labels:\n",
    "y = target_series.loc[common_ids].astype(int)"
   ]
  },
  {
   "cell_type": "markdown",
   "id": "5dc87d0c-865c-4053-893d-8fdb93d29d6a",
   "metadata": {},
   "source": [
    "## Early fusion"
   ]
  },
  {
   "cell_type": "code",
   "execution_count": null,
   "id": "c78abc04-1792-422a-8414-503e53b0b451",
   "metadata": {},
   "outputs": [],
   "source": [
    "# --- Step 3: Impute missing values ---\n",
    "imputer = SimpleImputer(strategy='mean')\n",
    "X_merged_imputed = imputer.fit_transform(X_merged)\n",
    "\n",
    "sss = StratifiedShuffleSplit(n_splits=30, test_size=0.3, random_state=42)\n",
    "accuracies_early_fusion = []\n",
    "\n",
    "for train_index, test_index in sss.split(X_merged_imputed, y):\n",
    "    X_train, X_test = X_merged_imputed[train_index], X_merged_imputed[test_index]\n",
    "    y_train, y_test = y.iloc[train_index], y.iloc[test_index]\n",
    "\n",
    "    clf = RandomForestClassifier(n_estimators=100, random_state=42, n_jobs=-1)\n",
    "    clf.fit(X_train, y_train)\n",
    "    y_pred = clf.predict(X_test)\n",
    "\n",
    "    acc = accuracy_score(y_test, y_pred)\n",
    "    accuracies_early_fusion.append(acc)\n",
    "\n",
    "# --- Plot ---\n",
    "plt.figure(figsize=(8, 5))\n",
    "plt.boxplot(accuracies_early_fusion)\n",
    "plt.title(\"Stratified Random Forest Accuracy (30 Splits)\")\n",
    "plt.ylabel(\"Accuracy\")\n",
    "plt.xticks([1], [\"Random Forest\"])\n",
    "plt.grid(True)\n",
    "plt.show()"
   ]
  },
  {
   "cell_type": "markdown",
   "id": "3e5b08f5-b763-4711-9489-96a86d9815e1",
   "metadata": {},
   "source": [
    "## Late fusion"
   ]
  },
  {
   "cell_type": "code",
   "execution_count": null,
   "id": "75737ef7-97c9-48c0-a736-936bc817134b",
   "metadata": {},
   "outputs": [],
   "source": [
    "sss = StratifiedShuffleSplit(n_splits=30, test_size=0.3, random_state=42)\n",
    "accuracies_late_fusion = []\n",
    "\n",
    "for train_index, test_index in sss.split(X_expr_imputed, y):\n",
    "    X_expr_train, X_expr_test = X_expr_imputed[train_index], X_expr_imputed[test_index]\n",
    "    X_meth_train, X_meth_test = X_meth_imputed[train_index], X_meth_imputed[test_index]\n",
    "    y_train, y_test = y.iloc[train_index], y.iloc[test_index]\n",
    "\n",
    "    # Train separate RF models on each modality\n",
    "    clf_expr = RandomForestClassifier(n_estimators=100, random_state=42, n_jobs=-1)\n",
    "    clf_meth = RandomForestClassifier(n_estimators=100, random_state=42, n_jobs=-1)\n",
    "\n",
    "    clf_expr.fit(X_expr_train, y_train)\n",
    "    clf_meth.fit(X_meth_train, y_train)\n",
    "\n",
    "    # Predict probabilities from both\n",
    "    prob_expr = clf_expr.predict_proba(X_expr_test)\n",
    "    prob_meth = clf_meth.predict_proba(X_meth_test)\n",
    "\n",
    "    # Average predicted probabilities (late fusion)\n",
    "    prob_avg = (prob_expr + prob_meth) / 2.0\n",
    "    y_pred = np.argmax(prob_avg, axis=1)\n",
    "\n",
    "    # Accuracy\n",
    "    acc = accuracy_score(y_test, y_pred)\n",
    "    accuracies_late_fusion.append(acc)\n",
    "\n",
    "# Step 4: Plot results\n",
    "plt.figure(figsize=(8, 5))\n",
    "plt.boxplot(accuracies_late_fusion)\n",
    "plt.title(\"Random Forest with Late Fusion (30 Stratified Splits)\")\n",
    "plt.ylabel(\"Accuracy\")\n",
    "plt.xticks([1], [\"Late Fusion RF\"])\n",
    "plt.grid(True)\n",
    "plt.show()"
   ]
  },
  {
   "cell_type": "markdown",
   "id": "9b3c4d89-d762-495b-bd7b-987caf0fdeb7",
   "metadata": {},
   "source": [
    "## Plotting all the accuracies on the boxplot. What do you observe? Which modality has stronger signal? Which fusion is more beneficial to use? "
   ]
  },
  {
   "cell_type": "code",
   "execution_count": null,
   "id": "72e1c34d-8366-40ce-a72b-46991d8c4728",
   "metadata": {},
   "outputs": [],
   "source": [
    "# Combine them into a list of lists\n",
    "all_accuracies = [\n",
    "    accuracies_meth,\n",
    "    accuracies_ge,\n",
    "    accuracies_early_fusion,\n",
    "    accuracies_late_fusion\n",
    "]\n",
    "\n",
    "# Define labels for each boxplot\n",
    "labels = [\n",
    "    'Methylation Only',\n",
    "    'Gene Expression Only',\n",
    "    'Early Fusion',\n",
    "    'Late Fusion'\n",
    "]\n",
    "\n",
    "# Create the plot\n",
    "plt.figure(figsize=(10, 6))\n",
    "plt.boxplot(all_accuracies, tick_labels=labels, patch_artist=True)\n",
    "\n",
    "# Customize appearance\n",
    "plt.title(\"Comparison of Model Accuracies\")\n",
    "plt.ylabel(\"Accuracy\")\n",
    "plt.grid(True)\n",
    "plt.xticks(rotation=15)\n",
    "\n",
    "plt.show()"
   ]
  }
 ],
 "metadata": {
  "kernelspec": {
   "display_name": "Python 3 (ipykernel)",
   "language": "python",
   "name": "python3"
  },
  "language_info": {
   "codemirror_mode": {
    "name": "ipython",
    "version": 3
   },
   "file_extension": ".py",
   "mimetype": "text/x-python",
   "name": "python",
   "nbconvert_exporter": "python",
   "pygments_lexer": "ipython3",
   "version": "3.12.10"
  }
 },
 "nbformat": 4,
 "nbformat_minor": 5
}
