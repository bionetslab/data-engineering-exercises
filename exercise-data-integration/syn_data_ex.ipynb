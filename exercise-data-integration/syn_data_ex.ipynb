{
 "cells": [
  {
   "cell_type": "code",
   "execution_count": null,
   "id": "573706fb-ef7a-4eed-8d69-fb5e8bc703a5",
   "metadata": {},
   "outputs": [],
   "source": [
    "# Load the CSV files\n",
    "import pandas as pd\n",
    "hospital_a = pd.read_csv('./data/hospital_a.csv', parse_dates=['DOB'])\n",
    "hospital_b = pd.read_csv('./data/hospital_b.csv', parse_dates=['DateOfBirth'])\n",
    "lab_results = pd.read_csv('./data/lab_results.csv', parse_dates=['Timestamp', 'DateOfBirth'])\n",
    "insurance_claims = pd.read_csv('./data/insurance_claims.csv', parse_dates=['Date', 'DateOfBirth'])"
   ]
  },
  {
   "cell_type": "markdown",
   "id": "5df50ae5-933c-430c-a94b-da593b664e7c",
   "metadata": {},
   "source": [
    "## General task: combine all the data above into one table, performing horizontal and vertical integration."
   ]
  },
  {
   "cell_type": "code",
   "execution_count": null,
   "id": "d16abed4-aff8-4cf2-b523-b523185ecaae",
   "metadata": {},
   "outputs": [],
   "source": [
    "# If you like to take a look at the data please uncomment one of the lines.\n",
    "\n",
    "# hospital_a.head()\n",
    "hospital_b.head()\n",
    "# lab_results.head(10)\n",
    "# insurance_claims.head(10)"
   ]
  },
  {
   "cell_type": "markdown",
   "id": "ba0a6a86-2c5c-4ad9-982d-d4d62a36373b",
   "metadata": {},
   "source": [
    "## a) Schema Integration: split FullName to FirstName and Lastname. Add the DateOfBirth column for the \"hospital_a\" data frame and remove the \"DOB\" column from there. Be aware of a middlename becoming as a part of the first name."
   ]
  },
  {
   "cell_type": "code",
   "execution_count": null,
   "id": "a8ce5b4a-db68-488d-b9ec-689209eedfca",
   "metadata": {},
   "outputs": [],
   "source": [
    "# your code here"
   ]
  },
  {
   "cell_type": "markdown",
   "id": "568a8b1b-a891-4d22-8c74-f57248e3b1f5",
   "metadata": {},
   "source": [
    "## b) Semantic Heterogeneity: align values of gender colum of the \"hospital_a\" data frame. "
   ]
  },
  {
   "cell_type": "code",
   "execution_count": null,
   "id": "b211311b-f5a5-44e3-8041-9e846ae7a93d",
   "metadata": {},
   "outputs": [],
   "source": [
    "# hint\n",
    "# use map function of the dataframe object\n",
    "# your code here"
   ]
  },
  {
   "cell_type": "markdown",
   "id": "a2fc8388-73ed-4a89-a39a-89ad0b3238f9",
   "metadata": {},
   "source": [
    "## c) Harmonize the ICD diagnoses codes ( ICD-9 ==> ICD-10 for Hospital A). Use the hints in the cell below."
   ]
  },
  {
   "cell_type": "code",
   "execution_count": null,
   "id": "bf06e0da-3648-46ae-b905-2aedf61e7fed",
   "metadata": {},
   "outputs": [],
   "source": [
    "# hint \n",
    "# Diagnosis Coding Harmonization (ICD-9 → ICD-10)\n",
    "# Convert floats to strings with 2 decimal places\n",
    "# Use the map function to map the ICD codes of \n",
    "icd9_to_icd10 = {\n",
    "    '250.00': 'E11.9',    # Type 2 diabetes\n",
    "    '401.90': 'I10',       # Hypertension\n",
    "    '272.40': 'E78.5',     # Hyperlipidemia\n",
    "    '530.81': 'K21.9',    # GERD\n",
    "    '414.01': 'I25.10'    # CAD\n",
    "}\n",
    "\n",
    "# your code here"
   ]
  },
  {
   "cell_type": "markdown",
   "id": "9c4d12d3-dd85-46de-8a78-663973807e6b",
   "metadata": {},
   "source": [
    "## d)  Map free-text drug names (hospital A) to standardized medication codes. It can be done using an external reference like the ATC (Anatomical Therapeutic Chemical) Classification System. Please see the cell below."
   ]
  },
  {
   "cell_type": "code",
   "execution_count": null,
   "id": "c824a0ef-a6ee-4edb-b463-445d7526fbbf",
   "metadata": {},
   "outputs": [],
   "source": [
    "# hint use map() function of the data frame object.\n",
    "\n",
    "med_to_code = {\n",
    "    'Metformin': 'A10BA02',     # Diabetes\n",
    "    'Lisinopril': 'C09AA03',    # Hypertension\n",
    "    'Atorvastatin': 'C10AA05',  # Cholesterol\n",
    "    'Omeprazole': 'A02BC01',    # GERD\n",
    "    'Aspirin': 'B01AC06'        # Antiplatelet\n",
    "}\n",
    "# your code below"
   ]
  },
  {
   "cell_type": "markdown",
   "id": "f416a1f1-c98a-4d2e-9491-53668ff08207",
   "metadata": {},
   "source": [
    "## e) Unit Conversion: Normalize lab units to mg/dL (handle inconsistent casing and missing values)."
   ]
  },
  {
   "cell_type": "code",
   "execution_count": null,
   "id": "ce65ba57-b1d9-4a77-8d3e-cb1677dd0d7a",
   "metadata": {},
   "outputs": [],
   "source": [
    "# hint\n",
    "# use apply() from pandas and \n",
    "# lambda row: row['ResultValue'] * 100 if row['Unit'] == 'g/dl' else row['ResultValue']\n",
    "# your code below"
   ]
  },
  {
   "cell_type": "markdown",
   "id": "f8caa926-f29d-4592-93f9-056b6bf6e1ef",
   "metadata": {},
   "source": [
    "## f) Integrate data from hospitals into the variable \"hosp_combined\"."
   ]
  },
  {
   "cell_type": "code",
   "execution_count": null,
   "id": "f4a37fa0-ff06-460b-80d8-a9ff9ede6631",
   "metadata": {},
   "outputs": [],
   "source": [
    "# your code\n"
   ]
  },
  {
   "cell_type": "markdown",
   "id": "d7678848-0e42-42da-ba5d-dd788151b324",
   "metadata": {},
   "source": [
    "## g) Merge with lab results using FirstName, LastName, DateOfBirth."
   ]
  },
  {
   "cell_type": "code",
   "execution_count": null,
   "id": "d02a0230-edc0-4441-b378-4ee1c1a5f425",
   "metadata": {},
   "outputs": [],
   "source": [
    "# Merge with lab results (utilize FirstName, LastName, DateOfBirth to map patients).\n"
   ]
  },
  {
   "cell_type": "markdown",
   "id": "c4824524-f008-4831-a277-b92bbc8cccbf",
   "metadata": {},
   "source": [
    "## h) Make a final merge with insurance claims using FirstName, LastName, DateOfBirth. Take care of the MiddleNames columns in the table with insurance claims."
   ]
  },
  {
   "cell_type": "code",
   "execution_count": null,
   "id": "48351830-c5e3-4ff8-935c-9591e0aff9de",
   "metadata": {},
   "outputs": [],
   "source": [
    "insurance_claims = pd.read_csv('./data/insurance_claims.csv', parse_dates=['Date', 'DateOfBirth'])\n",
    "# your code\n"
   ]
  }
 ],
 "metadata": {
  "kernelspec": {
   "display_name": "Python 3 (ipykernel)",
   "language": "python",
   "name": "python3"
  },
  "language_info": {
   "codemirror_mode": {
    "name": "ipython",
    "version": 3
   },
   "file_extension": ".py",
   "mimetype": "text/x-python",
   "name": "python",
   "nbconvert_exporter": "python",
   "pygments_lexer": "ipython3",
   "version": "3.12.10"
  }
 },
 "nbformat": 4,
 "nbformat_minor": 5
}
